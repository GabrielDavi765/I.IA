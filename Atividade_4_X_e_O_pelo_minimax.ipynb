{
  "nbformat": 4,
  "nbformat_minor": 0,
  "metadata": {
    "colab": {
      "provenance": [],
      "authorship_tag": "ABX9TyMLpndE2xvts6uSg1wke1tW",
      "include_colab_link": true
    },
    "kernelspec": {
      "name": "python3",
      "display_name": "Python 3"
    },
    "language_info": {
      "name": "python"
    }
  },
  "cells": [
    {
      "cell_type": "markdown",
      "metadata": {
        "id": "view-in-github",
        "colab_type": "text"
      },
      "source": [
        "<a href=\"https://colab.research.google.com/github/GabrielDavi765/I.IA-atividade-4/blob/main/Atividade_4_X_e_O_pelo_minimax.ipynb\" target=\"_parent\"><img src=\"https://colab.research.google.com/assets/colab-badge.svg\" alt=\"Open In Colab\"/></a>"
      ]
    },
    {
      "cell_type": "markdown",
      "source": [
        "Nosso codigo é um jogo da velha utilizando minimax, com uma alteração que consiste em um jogador X ou O aleatorios possuirem direito a 2 jogadas seguidas de acordo com o numero(1,2,3) sorteado\n",
        "\n",
        "Gabriel Davi, Giordani Andre\n"
      ],
      "metadata": {
        "id": "LBra0PoiEHKI"
      }
    },
    {
      "cell_type": "code",
      "execution_count": null,
      "metadata": {
        "id": "p0S8mrgQCyQg"
      },
      "outputs": [],
      "source": [
        "import random"
      ]
    },
    {
      "cell_type": "code",
      "source": [
        "def jogador(tabuleiro, rodada):\n",
        "\n",
        "  if rodada % 2 == 0:\n",
        "      return 'X'\n",
        "\n",
        "  else:\n",
        "      return 'O'\n",
        "\n",
        "# Se a rodada for par, o jogador atual será 'X', caso for impar o jogador atual será 'O'"
      ],
      "metadata": {
        "id": "QUZtaV07C14a"
      },
      "execution_count": null,
      "outputs": []
    },
    {
      "cell_type": "code",
      "source": [
        "def acoes(tabuleiro):\n",
        "\n",
        "    return [(i, j) for i in range(3) for j in range(3) if tabuleiro[i][j] == ' ']\n",
        "\n",
        "# retorna as coordenadas das células vazias no tabuleiro de jogo da velha"
      ],
      "metadata": {
        "id": "3fSg1qClC9ml"
      },
      "execution_count": null,
      "outputs": []
    },
    {
      "cell_type": "code",
      "source": [
        "def resultado(tabuleiro, acao, rodada):\n",
        "\n",
        "    jogador_atual = jogador(tabuleiro, rodada) #armazena X ou O de acordo com o numero da rodada\n",
        "\n",
        "    novo_tabuleiro = [row.copy() for row in tabuleiro]\n",
        "    novo_tabuleiro[acao[0]][acao[1]] = jogador_atual\n",
        "    return novo_tabuleiro\n",
        "    # cria uma copia do tabuleiro alem de retornar o tabuleiro novo com X ou O posicionado"
      ],
      "metadata": {
        "id": "vkk9lCoCEyqR"
      },
      "execution_count": null,
      "outputs": []
    },
    {
      "cell_type": "code",
      "source": [
        "def ganhador(tabuleiro):\n",
        "\n",
        "    for linha in tabuleiro: # percorre as linhas\n",
        "        if linha.count('X') == 3:\n",
        "            return 'X'\n",
        "        elif linha.count('O') == 3:\n",
        "            return 'O'\n",
        "\n",
        "\n",
        "    for coluna in range(3): # percorre as colunas\n",
        "        if tabuleiro[0][coluna] == tabuleiro[1][coluna] == tabuleiro[2][coluna] != ' ':\n",
        "            return tabuleiro[0][coluna]\n",
        "\n",
        "\n",
        "    if tabuleiro[0][0] == tabuleiro[1][1] == tabuleiro[2][2] != ' ': #Aqui, são verificadas as diagonais\n",
        "        return tabuleiro[0][0]\n",
        "\n",
        "    if tabuleiro[0][2] == tabuleiro[1][1] == tabuleiro[2][0] != ' ': #Aqui, são verificadas as diagonais\n",
        "        return tabuleiro[0][2]\n",
        "\n",
        "\n",
        "    return None #retorna none se nao tiver tido ganhado (nenhuma das condicoes foram concluidas)"
      ],
      "metadata": {
        "id": "GqAnXIATFpSr"
      },
      "execution_count": null,
      "outputs": []
    },
    {
      "cell_type": "code",
      "source": [
        "def final(tabuleiro):\n",
        "    vencedor = ganhador(tabuleiro)\n",
        "\n",
        "    if vencedor: # Se há um vencedor, retorna o símbolo do vencedor\n",
        "        return vencedor\n",
        "    else:\n",
        "        todas_celulas_preenchidas = all(all(cell != ' ' for cell in row) for row in tabuleiro) # Verifica se todas as células estão preenchidas (não contêm espaço em branco)\n",
        "\n",
        "\n",
        "        if todas_celulas_preenchidas: # Se todas as células estão preenchidas e não há vencedor, é um empate, Se não há vencedor e ainda há células vazias, o jogo não chegou ao fim\n",
        "            return True\n",
        "        else:\n",
        "            return False"
      ],
      "metadata": {
        "id": "RTwYm9toGjk6"
      },
      "execution_count": null,
      "outputs": []
    },
    {
      "cell_type": "code",
      "source": [
        "def custo(tabuleiro):\n",
        "    vencedor = ganhador(tabuleiro) #chama a funcao para saber se tem algum vencedor\n",
        "\n",
        "\n",
        "    if vencedor == 'X':\n",
        "        return 1\n",
        "\n",
        "    elif vencedor == 'O':\n",
        "        return -1\n",
        "\n",
        "    else:\n",
        "        return 0\n",
        "\n",
        "#retorna 1 se X for vencedor, -1 se O for vencedor ou 0 se nao tiver vencedor"
      ],
      "metadata": {
        "id": "Kyn-Wlk0HnDI"
      },
      "execution_count": null,
      "outputs": []
    },
    {
      "cell_type": "code",
      "source": [
        "def imprimir_tabuleiro(tabuleiro):\n",
        "\n",
        "    print(\"\\n\")\n",
        "\n",
        "    for i in range(3):\n",
        "        for j in range(3):\n",
        "            print(\" \" if tabuleiro[i][j] == ' ' else tabuleiro[i][j], end='')\n",
        "            if j < 2:\n",
        "                print('|', end='')\n",
        "        print()\n",
        "        if i < 2:\n",
        "            print(\"-----\")"
      ],
      "metadata": {
        "id": "EIfTd_LTIIX8"
      },
      "execution_count": null,
      "outputs": []
    },
    {
      "cell_type": "code",
      "source": [
        "def minimax(tabuleiro, rodada):\n",
        "    jogador_atual = jogador(tabuleiro, rodada)\n",
        "\n",
        "    if jogador_atual == 'X':\n",
        "        _, acao = maxValor(tabuleiro, rodada)\n",
        "    else:\n",
        "        _, acao = minValor(tabuleiro, rodada)\n",
        "\n",
        "    return acao"
      ],
      "metadata": {
        "id": "dMib_utJQghz"
      },
      "execution_count": null,
      "outputs": []
    },
    {
      "cell_type": "code",
      "source": [
        "def maxValor(tabuleiro, rodada):\n",
        "    if final(tabuleiro):\n",
        "        return custo(tabuleiro), None\n",
        "\n",
        "    max_utilidade = float('-inf')\n",
        "    melhor_acao = None\n",
        "\n",
        "    for acao in acoes(tabuleiro):\n",
        "        novo_estado = resultado(tabuleiro, acao, rodada)\n",
        "        utilidade, _ = minValor(novo_estado, rodada + 1)\n",
        "\n",
        "        if utilidade > max_utilidade:\n",
        "            max_utilidade = utilidade\n",
        "            melhor_acao = acao\n",
        "\n",
        "    return max_utilidade, melhor_acao\n",
        "\n",
        "def minValor(tabuleiro, rodada):\n",
        "    if final(tabuleiro):\n",
        "        return custo(tabuleiro), None\n",
        "\n",
        "    min_utilidade = float('inf')\n",
        "    melhor_acao = None\n",
        "\n",
        "    for acao in acoes(tabuleiro):\n",
        "        novo_estado = resultado(tabuleiro, acao, rodada)\n",
        "        utilidade, _ = maxValor(novo_estado, rodada + 1)\n",
        "\n",
        "        if utilidade < min_utilidade:\n",
        "            min_utilidade = utilidade\n",
        "            melhor_acao = acao\n",
        "\n",
        "    return min_utilidade, melhor_acao"
      ],
      "metadata": {
        "id": "CCTVG-CxIWK6"
      },
      "execution_count": null,
      "outputs": []
    },
    {
      "cell_type": "code",
      "source": [
        "def jogar_jogo():\n",
        "\n",
        "    tabuleiro = [[' ' for _ in range(3)] for _ in range(3)] # Inicia um novo jogo\n",
        "\n",
        "\n",
        "    rodada = random.randint(-1, 0)\n",
        "\n",
        "    # randomizando numero de -1 e 0, decidindo quem iniciara a jogada(X=0,O=-1)\n",
        "    if rodada == -1:\n",
        "       print(\"O camecara jogando\\n\")\n",
        "    elif rodada== 0:\n",
        "       print(\"X camecara jogando\\n\")\n",
        "\n",
        "\n",
        "    randomizador = random.randint(1, 3)  # Randomizador de 1,2 ou 3 para saber qual jogador (X ou O) vai ter 2 jogada\n",
        "    print(f\"Número randomizado: {randomizador}\")\n",
        "\n",
        "\n",
        "    while not final(tabuleiro):\n",
        "        imprimir_tabuleiro(tabuleiro)\n",
        "        print(f\"Rodada: {rodada}\")\n",
        "\n",
        "        if randomizador == 1 and rodada == 1: # verifica se a rodada é 1 e o numero aleatorio tambem é 1 porque ai ele adiciona +1 no contador de rodada pulando a rodada do O fazendo o X jogar 2x consecutivas\n",
        "            rodada += 1\n",
        "\n",
        "        elif randomizador == 2 and rodada == 2: # verifica se a rodada é 1 e o numero aleatorio tambem é 1 porque ai ele adiciona +1 no contador de rodada pulando a rodada do O fazendo o X jogar 2x consecutivas\n",
        "            rodada += 1\n",
        "\n",
        "        acao = minimax(tabuleiro, rodada)\n",
        "        tabuleiro = resultado(tabuleiro, acao, rodada)\n",
        "        rodada += 1\n",
        "\n",
        "    imprimir_tabuleiro(tabuleiro) # Imprime o tabuleiro\n",
        "\n",
        "\n",
        "\n",
        "    return ganhador(tabuleiro) # Retorna o resultado do jogo"
      ],
      "metadata": {
        "id": "z8LEqZ6LJGnO"
      },
      "execution_count": null,
      "outputs": []
    },
    {
      "cell_type": "code",
      "source": [
        "N = 10 #numero de jogos"
      ],
      "metadata": {
        "id": "dU4gxNVjJHph"
      },
      "execution_count": null,
      "outputs": []
    },
    {
      "cell_type": "code",
      "source": [
        "resultados = {'X': 0, 'O': 0, 'Empate': 0}"
      ],
      "metadata": {
        "id": "IHXtLpk5JJgx"
      },
      "execution_count": null,
      "outputs": []
    },
    {
      "cell_type": "code",
      "source": [
        "for _ in range(N):\n",
        "    resultado_jogo = jogar_jogo()\n",
        "\n",
        "    if resultado_jogo == 'X':\n",
        "        resultados['X'] += 1\n",
        "\n",
        "    elif resultado_jogo == 'O':\n",
        "        resultados['O'] += 1\n",
        "\n",
        "    else:\n",
        "        resultados['Empate'] += 1\n",
        "\n",
        "print(f\"\\nJogador X ganhou {resultados['X']} jogos.\")\n",
        "print(f\"Jogador O ganhou {resultados['O']} jogos.\")\n",
        "print(f\"Houve {resultados['Empate']} empates.\")"
      ],
      "metadata": {
        "id": "3t5WRSakJM_H"
      },
      "execution_count": null,
      "outputs": []
    }
  ]
}