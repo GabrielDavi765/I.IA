{
  "cells": [
    {
      "cell_type": "markdown",
      "metadata": {
        "id": "view-in-github",
        "colab_type": "text"
      },
      "source": [
        "<a href=\"https://colab.research.google.com/github/GabrielDavi765/I.IA-atividade-4/blob/main/Atividade_4.ipynb\" target=\"_parent\"><img src=\"https://colab.research.google.com/assets/colab-badge.svg\" alt=\"Open In Colab\"/></a>"
      ]
    },
    {
      "cell_type": "markdown",
      "source": [
        "Na atividade 4, criamos um jogo da velha com o minimax. Temos 2 arquivos, sendo um com ambos os jogadores controlados pelo minimax, e o outro onde somente o X é controlado pelo minimax e o O controlado pelo usuário. Nosso jogo da velha possui uma alteração que faz com que um número entre 1 e 2 seja sorteado, e caso o número seja 1, o X terá 2 jogadas seguidas. Agora, caso o número seja 2, o O terá 2 jogadas seguidas."
      ],
      "metadata": {
        "id": "H5b903F2Ur1e"
      }
    }
  ],
  "metadata": {
    "colab": {
      "provenance": [],
      "authorship_tag": "ABX9TyMk3I37RXWxWsq+CGzOxSuM",
      "include_colab_link": true
    },
    "kernelspec": {
      "display_name": "Python 3",
      "name": "python3"
    },
    "language_info": {
      "name": "python"
    }
  },
  "nbformat": 4,
  "nbformat_minor": 0
}