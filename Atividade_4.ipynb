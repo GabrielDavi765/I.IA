{
  "cells": [
    {
      "cell_type": "markdown",
      "metadata": {
        "id": "view-in-github",
        "colab_type": "text"
      },
      "source": [
        "<a href=\"https://colab.research.google.com/github/GabrielDavi765/I.IA-atividade-4/blob/main/Atividade_4.ipynb\" target=\"_parent\"><img src=\"https://colab.research.google.com/assets/colab-badge.svg\" alt=\"Open In Colab\"/></a>"
      ]
    },
    {
      "cell_type": "markdown",
      "source": [
        "Na atividade 4 criamos um jogo da velha com o minimax, temos 2 arquivos sendo um com ambos os jogadores controlado pelo minimax, e o outro onde somente o X é controlado pelo minimxa e o O controlado pelo usuario, nosso jogo da velha possui uma alteração que faz com que um numero entre 1,2 ou 3 seja sorteado e caso o numero for 1 o X tera 2 jogadas seguidas, agora caso o numero seja 2 o O tera 2 jogadas seguidas, quando o numero for 3 o jogo da velha sera jogado de forma normal.\n"
      ],
      "metadata": {
        "id": "H5b903F2Ur1e"
      }
    }
  ],
  "metadata": {
    "colab": {
      "provenance": [],
      "authorship_tag": "ABX9TyMOvICz7BqfzZMkVSTSowa9",
      "include_colab_link": true
    },
    "kernelspec": {
      "display_name": "Python 3",
      "name": "python3"
    },
    "language_info": {
      "name": "python"
    }
  },
  "nbformat": 4,
  "nbformat_minor": 0
}