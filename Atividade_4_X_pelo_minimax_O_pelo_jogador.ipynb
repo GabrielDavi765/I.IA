{
  "nbformat": 4,
  "nbformat_minor": 0,
  "metadata": {
    "colab": {
      "provenance": [],
      "authorship_tag": "ABX9TyMOaJxwFZ4tvneYJbKX3uSZ",
      "include_colab_link": true
    },
    "kernelspec": {
      "name": "python3",
      "display_name": "Python 3"
    },
    "language_info": {
      "name": "python"
    }
  },
  "cells": [
    {
      "cell_type": "markdown",
      "metadata": {
        "id": "view-in-github",
        "colab_type": "text"
      },
      "source": [
        "<a href=\"https://colab.research.google.com/github/GabrielDavi765/I.IA/blob/main/Atividade_4_X_pelo_minimax_O_pelo_jogador.ipynb\" target=\"_parent\"><img src=\"https://colab.research.google.com/assets/colab-badge.svg\" alt=\"Open In Colab\"/></a>"
      ]
    },
    {
      "cell_type": "markdown",
      "source": [
        "Nosso codigo é um jogo da velha utilizando minimax, com uma alteração que consiste em um jogador X ou O aleatorios possuirem direito a 2 jogadas seguidas de acordo com o numero(1 ou 2) sorteado\n",
        "\n",
        "Gabriel Davi, Giordani Andre\n"
      ],
      "metadata": {
        "id": "LBra0PoiEHKI"
      }
    },
    {
      "cell_type": "code",
      "execution_count": 15,
      "metadata": {
        "id": "p0S8mrgQCyQg"
      },
      "outputs": [],
      "source": [
        "import random"
      ]
    },
    {
      "cell_type": "code",
      "source": [
        "def jogador(tabuleiro, rodada):\n",
        "\n",
        "  if rodada % 2 == 0:\n",
        "      return 'X'\n",
        "\n",
        "  else:\n",
        "      return 'O'\n",
        "\n",
        "# Se a rodada for par, o jogador atual será 'X', caso for impar o jogador atual será 'O'"
      ],
      "metadata": {
        "id": "QUZtaV07C14a"
      },
      "execution_count": 16,
      "outputs": []
    },
    {
      "cell_type": "code",
      "source": [
        "def acoes(tabuleiro):\n",
        "\n",
        "    return [(i, j) for i in range(3) for j in range(3) if tabuleiro[i][j] == ' ']\n",
        "\n",
        "# retorna as coordenadas das células vazias no tabuleiro de jogo da velha"
      ],
      "metadata": {
        "id": "3fSg1qClC9ml"
      },
      "execution_count": 17,
      "outputs": []
    },
    {
      "cell_type": "code",
      "source": [
        "def resultado(tabuleiro, acao, rodada):\n",
        "\n",
        "    jogador_atual = jogador(tabuleiro, rodada) #armazena X ou O de acordo com o numero da rodada\n",
        "\n",
        "    novo_tabuleiro = [row.copy() for row in tabuleiro]\n",
        "    novo_tabuleiro[acao[0]][acao[1]] = jogador_atual\n",
        "    return novo_tabuleiro\n",
        "    # cria uma copia do tabuleiro alem de retornar o tabuleiro novo com X ou O posicionado"
      ],
      "metadata": {
        "id": "vkk9lCoCEyqR"
      },
      "execution_count": 18,
      "outputs": []
    },
    {
      "cell_type": "code",
      "source": [
        "def ganhador(tabuleiro):\n",
        "\n",
        "    for linha in tabuleiro: # percorre as linhas\n",
        "        if linha.count('X') == 3:\n",
        "            return 'X'\n",
        "        elif linha.count('O') == 3:\n",
        "            return 'O'\n",
        "\n",
        "\n",
        "    for coluna in range(3): # percorre as colunas\n",
        "        if tabuleiro[0][coluna] == tabuleiro[1][coluna] == tabuleiro[2][coluna] != ' ':\n",
        "            return tabuleiro[0][coluna]\n",
        "\n",
        "\n",
        "    if tabuleiro[0][0] == tabuleiro[1][1] == tabuleiro[2][2] != ' ': #Aqui, são verificadas as diagonais\n",
        "        return tabuleiro[0][0]\n",
        "\n",
        "    if tabuleiro[0][2] == tabuleiro[1][1] == tabuleiro[2][0] != ' ': #Aqui, são verificadas as diagonais\n",
        "        return tabuleiro[0][2]\n",
        "\n",
        "\n",
        "    return None #retorna none se nao tiver tido ganhado (nenhuma das condicoes foram concluidas)"
      ],
      "metadata": {
        "id": "GqAnXIATFpSr"
      },
      "execution_count": 19,
      "outputs": []
    },
    {
      "cell_type": "code",
      "source": [
        "def final(tabuleiro):\n",
        "    vencedor = ganhador(tabuleiro)\n",
        "\n",
        "    if vencedor:\n",
        "        # Se há um vencedor, retorna o símbolo do vencedor\n",
        "        return vencedor\n",
        "    else:\n",
        "        todas_celulas_preenchidas = all(all(cell != ' ' for cell in row) for row in tabuleiro) # Verifica se todas as células estão preenchidas (não contêm espaço em branco)\n",
        "\n",
        "\n",
        "        if todas_celulas_preenchidas: # Se todas as células estão preenchidas e não há vencedor, é um empate, Se não há vencedor e ainda há células vazias, o jogo não chegou ao fim\n",
        "            return True\n",
        "        else:\n",
        "            return False"
      ],
      "metadata": {
        "id": "RTwYm9toGjk6"
      },
      "execution_count": 20,
      "outputs": []
    },
    {
      "cell_type": "code",
      "source": [
        "def custo(tabuleiro):\n",
        "    vencedor = ganhador(tabuleiro) #chama a funcao para saber se tem algum vencedor\n",
        "\n",
        "\n",
        "    if vencedor == 'X':\n",
        "        return 1\n",
        "\n",
        "    elif vencedor == 'O':\n",
        "        return -1\n",
        "\n",
        "    else:\n",
        "        return 0\n",
        "\n",
        "#retorna 1 se X for vencedor, -1 se O for vencedor ou 0 se nao tiver vencedor"
      ],
      "metadata": {
        "id": "Kyn-Wlk0HnDI"
      },
      "execution_count": 21,
      "outputs": []
    },
    {
      "cell_type": "code",
      "source": [
        "def imprimir_tabuleiro(tabuleiro):\n",
        "\n",
        "    print(\"\\n\")\n",
        "\n",
        "    for i in range(3):\n",
        "        for j in range(3):\n",
        "            print(\" \" if tabuleiro[i][j] == ' ' else tabuleiro[i][j], end='')\n",
        "            if j < 2:\n",
        "                print('|', end='')\n",
        "        print()\n",
        "        if i < 2:\n",
        "            print(\"-----\")"
      ],
      "metadata": {
        "id": "EIfTd_LTIIX8"
      },
      "execution_count": 22,
      "outputs": []
    },
    {
      "cell_type": "code",
      "source": [
        "def minimax(tabuleiro, rodada):\n",
        "    jogador_atual = jogador(tabuleiro, rodada)\n",
        "\n",
        "    if jogador_atual == 'X':\n",
        "        _, acao = maxValor(tabuleiro, rodada)\n",
        "    else:\n",
        "        _, acao = minValor(tabuleiro, rodada)\n",
        "\n",
        "    return acao"
      ],
      "metadata": {
        "id": "dMib_utJQghz"
      },
      "execution_count": 23,
      "outputs": []
    },
    {
      "cell_type": "code",
      "source": [
        "def maxValor(tabuleiro, rodada):\n",
        "    if final(tabuleiro):\n",
        "        return custo(tabuleiro), None\n",
        "\n",
        "    max_utilidade = float('-inf')\n",
        "    melhor_acao = None\n",
        "\n",
        "    for acao in acoes(tabuleiro):\n",
        "        novo_estado = resultado(tabuleiro, acao, rodada)\n",
        "        utilidade, _ = minValor(novo_estado, rodada + 1)\n",
        "\n",
        "        if utilidade > max_utilidade:\n",
        "            max_utilidade = utilidade\n",
        "            melhor_acao = acao\n",
        "\n",
        "    return max_utilidade, melhor_acao\n",
        "\n",
        "def minValor(tabuleiro, rodada):\n",
        "    if final(tabuleiro):\n",
        "        return custo(tabuleiro), None\n",
        "\n",
        "    min_utilidade = float('inf')\n",
        "    melhor_acao = None\n",
        "\n",
        "    for acao in acoes(tabuleiro):\n",
        "        novo_estado = resultado(tabuleiro, acao, rodada)\n",
        "        utilidade, _ = maxValor(novo_estado, rodada + 1)\n",
        "\n",
        "        if utilidade < min_utilidade:\n",
        "            min_utilidade = utilidade\n",
        "            melhor_acao = acao\n",
        "\n",
        "    return min_utilidade, melhor_acao"
      ],
      "metadata": {
        "id": "CCTVG-CxIWK6"
      },
      "execution_count": 24,
      "outputs": []
    },
    {
      "cell_type": "code",
      "source": [
        "def jogar_jogo():\n",
        "    # Inicia um novo jogo\n",
        "    tabuleiro = [[' ' for _ in range(3)] for _ in range(3)]\n",
        "    rodada = 0\n",
        "\n",
        "    # Randomizador de 1 ou 2\n",
        "    randomizador = random.randint(1, 2)\n",
        "    print(f\"Número randomizado: {randomizador}\")\n",
        "    print(\"\\n0 0|0 1|0 2\\n1 0|1 1|1 2\\n2 0|2 1|2 2\")\n",
        "\n",
        "    # Continua o jogo até o final\n",
        "    while not final(tabuleiro):\n",
        "        imprimir_tabuleiro(tabuleiro)\n",
        "        print(f\"Rodada: {rodada}\")\n",
        "\n",
        "        # Verifica o randomizador e incrementa a rodada\n",
        "        if randomizador == 1 and rodada == 1:\n",
        "            rodada += 1\n",
        "        elif randomizador == 2 and rodada == 2:\n",
        "            rodada += 1\n",
        "\n",
        "        if jogador(tabuleiro, rodada) == 'O':\n",
        "            # Jogada do jogador O controlado manualmente\n",
        "            acao = input(\"Digite a sua jogada (linha e coluna, separadas por espaço): \")\n",
        "            acao = tuple(map(int, acao.split()))\n",
        "            while acao not in acoes(tabuleiro):\n",
        "                print(\"Jogada inválida. Tente novamente.\")\n",
        "                acao = input(\"Digite a sua jogada (linha e coluna, separadas por espaço): \")\n",
        "                acao = tuple(map(int, acao.split()))\n",
        "\n",
        "            tabuleiro = resultado(tabuleiro, acao, rodada)\n",
        "        else:\n",
        "            # Jogada do jogador X controlado pelo minimax\n",
        "            acao = minimax(tabuleiro, rodada)\n",
        "            print(f\"Jogador X escolhe a posição: {acao}\")\n",
        "            tabuleiro = resultado(tabuleiro, acao, rodada)\n",
        "\n",
        "        rodada += 1\n",
        "\n",
        "    # Imprime o tabuleiro final\n",
        "    imprimir_tabuleiro(tabuleiro)\n",
        "\n",
        "    # Retorna o resultado do jogo\n",
        "    return ganhador(tabuleiro)\n",
        "\n",
        "\n",
        "\n",
        "resultados = {'X': 0, 'O': 0, 'Empate': 0}\n",
        "\n",
        "for _ in range(N):\n",
        "    resultado_jogo = jogar_jogo()\n",
        "\n",
        "    if resultado_jogo == 'X':\n",
        "        resultados['X'] += 1\n",
        "    elif resultado_jogo == 'O':\n",
        "        resultados['O'] += 1\n",
        "    else:\n",
        "        resultados['Empate'] += 1\n",
        "\n",
        "print(f\"\\nJogador X ganhou {resultados['X']} jogos.\")\n",
        "print(f\"Jogador O ganhou {resultados['O']} jogos.\")\n",
        "print(f\"Houve {resultados['Empate']} empates.\")"
      ],
      "metadata": {
        "id": "z8LEqZ6LJGnO",
        "colab": {
          "base_uri": "https://localhost:8080/",
          "height": 894
        },
        "outputId": "53b0f7e7-5b58-4624-b002-8c801374bc2d"
      },
      "execution_count": 28,
      "outputs": [
        {
          "output_type": "stream",
          "name": "stdout",
          "text": [
            "Número randomizado: 1\n",
            "\n",
            "0 0|0 1|0 2\n",
            "1 0|1 1|1 2\n",
            "2 0|2 1|2 2\n",
            "\n",
            "\n",
            " | | \n",
            "-----\n",
            " | | \n",
            "-----\n",
            " | | \n",
            "Rodada: 0\n",
            "Jogador X escolhe a posição: (0, 0)\n",
            "\n",
            "\n",
            "X| | \n",
            "-----\n",
            " | | \n",
            "-----\n",
            " | | \n",
            "Rodada: 1\n",
            "Jogador X escolhe a posição: (0, 1)\n",
            "\n",
            "\n",
            "X|X| \n",
            "-----\n",
            " | | \n",
            "-----\n",
            " | | \n",
            "Rodada: 3\n"
          ]
        },
        {
          "output_type": "error",
          "ename": "KeyboardInterrupt",
          "evalue": "Interrupted by user",
          "traceback": [
            "\u001b[0;31m---------------------------------------------------------------------------\u001b[0m",
            "\u001b[0;31mKeyboardInterrupt\u001b[0m                         Traceback (most recent call last)",
            "\u001b[0;32m<ipython-input-28-0421cd5d2f54>\u001b[0m in \u001b[0;36m<cell line: 50>\u001b[0;34m()\u001b[0m\n\u001b[1;32m     49\u001b[0m \u001b[0;34m\u001b[0m\u001b[0m\n\u001b[1;32m     50\u001b[0m \u001b[0;32mfor\u001b[0m \u001b[0m_\u001b[0m \u001b[0;32min\u001b[0m \u001b[0mrange\u001b[0m\u001b[0;34m(\u001b[0m\u001b[0mN\u001b[0m\u001b[0;34m)\u001b[0m\u001b[0;34m:\u001b[0m\u001b[0;34m\u001b[0m\u001b[0;34m\u001b[0m\u001b[0m\n\u001b[0;32m---> 51\u001b[0;31m     \u001b[0mresultado_jogo\u001b[0m \u001b[0;34m=\u001b[0m \u001b[0mjogar_jogo\u001b[0m\u001b[0;34m(\u001b[0m\u001b[0;34m)\u001b[0m\u001b[0;34m\u001b[0m\u001b[0;34m\u001b[0m\u001b[0m\n\u001b[0m\u001b[1;32m     52\u001b[0m \u001b[0;34m\u001b[0m\u001b[0m\n\u001b[1;32m     53\u001b[0m     \u001b[0;32mif\u001b[0m \u001b[0mresultado_jogo\u001b[0m \u001b[0;34m==\u001b[0m \u001b[0;34m'X'\u001b[0m\u001b[0;34m:\u001b[0m\u001b[0;34m\u001b[0m\u001b[0;34m\u001b[0m\u001b[0m\n",
            "\u001b[0;32m<ipython-input-28-0421cd5d2f54>\u001b[0m in \u001b[0;36mjogar_jogo\u001b[0;34m()\u001b[0m\n\u001b[1;32m     22\u001b[0m         \u001b[0;32mif\u001b[0m \u001b[0mjogador\u001b[0m\u001b[0;34m(\u001b[0m\u001b[0mtabuleiro\u001b[0m\u001b[0;34m,\u001b[0m \u001b[0mrodada\u001b[0m\u001b[0;34m)\u001b[0m \u001b[0;34m==\u001b[0m \u001b[0;34m'O'\u001b[0m\u001b[0;34m:\u001b[0m\u001b[0;34m\u001b[0m\u001b[0;34m\u001b[0m\u001b[0m\n\u001b[1;32m     23\u001b[0m             \u001b[0;31m# Jogada do jogador O controlado manualmente\u001b[0m\u001b[0;34m\u001b[0m\u001b[0;34m\u001b[0m\u001b[0m\n\u001b[0;32m---> 24\u001b[0;31m             \u001b[0macao\u001b[0m \u001b[0;34m=\u001b[0m \u001b[0minput\u001b[0m\u001b[0;34m(\u001b[0m\u001b[0;34m\"Digite a sua jogada (linha e coluna, separadas por espaço): \"\u001b[0m\u001b[0;34m)\u001b[0m\u001b[0;34m\u001b[0m\u001b[0;34m\u001b[0m\u001b[0m\n\u001b[0m\u001b[1;32m     25\u001b[0m             \u001b[0macao\u001b[0m \u001b[0;34m=\u001b[0m \u001b[0mtuple\u001b[0m\u001b[0;34m(\u001b[0m\u001b[0mmap\u001b[0m\u001b[0;34m(\u001b[0m\u001b[0mint\u001b[0m\u001b[0;34m,\u001b[0m \u001b[0macao\u001b[0m\u001b[0;34m.\u001b[0m\u001b[0msplit\u001b[0m\u001b[0;34m(\u001b[0m\u001b[0;34m)\u001b[0m\u001b[0;34m)\u001b[0m\u001b[0;34m)\u001b[0m\u001b[0;34m\u001b[0m\u001b[0;34m\u001b[0m\u001b[0m\n\u001b[1;32m     26\u001b[0m             \u001b[0;32mwhile\u001b[0m \u001b[0macao\u001b[0m \u001b[0;32mnot\u001b[0m \u001b[0;32min\u001b[0m \u001b[0macoes\u001b[0m\u001b[0;34m(\u001b[0m\u001b[0mtabuleiro\u001b[0m\u001b[0;34m)\u001b[0m\u001b[0;34m:\u001b[0m\u001b[0;34m\u001b[0m\u001b[0;34m\u001b[0m\u001b[0m\n",
            "\u001b[0;32m/usr/local/lib/python3.10/dist-packages/ipykernel/kernelbase.py\u001b[0m in \u001b[0;36mraw_input\u001b[0;34m(self, prompt)\u001b[0m\n\u001b[1;32m    849\u001b[0m                 \u001b[0;34m\"raw_input was called, but this frontend does not support input requests.\"\u001b[0m\u001b[0;34m\u001b[0m\u001b[0;34m\u001b[0m\u001b[0m\n\u001b[1;32m    850\u001b[0m             )\n\u001b[0;32m--> 851\u001b[0;31m         return self._input_request(str(prompt),\n\u001b[0m\u001b[1;32m    852\u001b[0m             \u001b[0mself\u001b[0m\u001b[0;34m.\u001b[0m\u001b[0m_parent_ident\u001b[0m\u001b[0;34m,\u001b[0m\u001b[0;34m\u001b[0m\u001b[0;34m\u001b[0m\u001b[0m\n\u001b[1;32m    853\u001b[0m             \u001b[0mself\u001b[0m\u001b[0;34m.\u001b[0m\u001b[0m_parent_header\u001b[0m\u001b[0;34m,\u001b[0m\u001b[0;34m\u001b[0m\u001b[0;34m\u001b[0m\u001b[0m\n",
            "\u001b[0;32m/usr/local/lib/python3.10/dist-packages/ipykernel/kernelbase.py\u001b[0m in \u001b[0;36m_input_request\u001b[0;34m(self, prompt, ident, parent, password)\u001b[0m\n\u001b[1;32m    893\u001b[0m             \u001b[0;32mexcept\u001b[0m \u001b[0mKeyboardInterrupt\u001b[0m\u001b[0;34m:\u001b[0m\u001b[0;34m\u001b[0m\u001b[0;34m\u001b[0m\u001b[0m\n\u001b[1;32m    894\u001b[0m                 \u001b[0;31m# re-raise KeyboardInterrupt, to truncate traceback\u001b[0m\u001b[0;34m\u001b[0m\u001b[0;34m\u001b[0m\u001b[0m\n\u001b[0;32m--> 895\u001b[0;31m                 \u001b[0;32mraise\u001b[0m \u001b[0mKeyboardInterrupt\u001b[0m\u001b[0;34m(\u001b[0m\u001b[0;34m\"Interrupted by user\"\u001b[0m\u001b[0;34m)\u001b[0m \u001b[0;32mfrom\u001b[0m \u001b[0;32mNone\u001b[0m\u001b[0;34m\u001b[0m\u001b[0;34m\u001b[0m\u001b[0m\n\u001b[0m\u001b[1;32m    896\u001b[0m             \u001b[0;32mexcept\u001b[0m \u001b[0mException\u001b[0m \u001b[0;32mas\u001b[0m \u001b[0me\u001b[0m\u001b[0;34m:\u001b[0m\u001b[0;34m\u001b[0m\u001b[0;34m\u001b[0m\u001b[0m\n\u001b[1;32m    897\u001b[0m                 \u001b[0mself\u001b[0m\u001b[0;34m.\u001b[0m\u001b[0mlog\u001b[0m\u001b[0;34m.\u001b[0m\u001b[0mwarning\u001b[0m\u001b[0;34m(\u001b[0m\u001b[0;34m\"Invalid Message:\"\u001b[0m\u001b[0;34m,\u001b[0m \u001b[0mexc_info\u001b[0m\u001b[0;34m=\u001b[0m\u001b[0;32mTrue\u001b[0m\u001b[0;34m)\u001b[0m\u001b[0;34m\u001b[0m\u001b[0;34m\u001b[0m\u001b[0m\n",
            "\u001b[0;31mKeyboardInterrupt\u001b[0m: Interrupted by user"
          ]
        }
      ]
    }
  ]
}